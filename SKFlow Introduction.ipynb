{
 "cells": [
  {
   "cell_type": "markdown",
   "metadata": {},
   "source": [
    "What is SKFlow\n",
    "\n",
    "\n",
    "Explain Tensorflow models\n",
    "Explain parameters, how they work"
   ]
  },
  {
   "cell_type": "code",
   "execution_count": 2,
   "metadata": {
    "collapsed": false
   },
   "outputs": [
    {
     "name": "stdout",
     "output_type": "stream",
     "text": [
      "Step #1, avg. loss: 5.80938\n",
      "Step #6, avg. loss: 2.18880\n",
      "Step #11, avg. loss: 1.52044\n",
      "Step #16, avg. loss: 1.11091\n",
      "Step #21, avg. loss: 0.88484\n",
      "Step #26, avg. loss: 0.76993\n",
      "Step #31, avg. loss: 0.62569\n",
      "Step #36, avg. loss: 0.89723\n",
      "Step #41, avg. loss: 0.71558\n",
      "Step #46, avg. loss: 0.62158\n",
      "Accuracy: 0.666667\n"
     ]
    }
   ],
   "source": [
    "import skflow\n",
    "from sklearn import datasets, metrics\n",
    "\n",
    "iris = datasets.load_iris()\n",
    "classifier = skflow.TensorFlowLinearClassifier(n_classes=3)\n",
    "classifier.fit(iris.data, iris.target)\n",
    "score = metrics.accuracy_score(classifier.predict(iris.data), iris.target)\n",
    "print(\"Accuracy: %f\" % score)"
   ]
  },
  {
   "cell_type": "code",
   "execution_count": 3,
   "metadata": {
    "collapsed": false
   },
   "outputs": [
    {
     "name": "stdout",
     "output_type": "stream",
     "text": [
      "Step #1, avg. loss: 606.36261\n",
      "Step #6, avg. loss: 520.14429\n",
      "Step #11, avg. loss: 487.38214\n",
      "Step #16, avg. loss: 458.28012\n",
      "Step #21, avg. loss: 317.39975\n",
      "Step #26, avg. loss: 310.21155\n",
      "Step #31, avg. loss: 209.94547\n",
      "Step #36, avg. loss: 174.55611\n",
      "Step #41, avg. loss: 143.66373\n",
      "Step #46, avg. loss: 81.28265\n",
      "MSE: 87.878873\n"
     ]
    }
   ],
   "source": [
    "import skflow\n",
    "from sklearn import datasets, metrics, preprocessing\n",
    "\n",
    "boston = datasets.load_boston()\n",
    "X = preprocessing.StandardScaler().fit_transform(boston.data)\n",
    "regressor = skflow.TensorFlowLinearRegressor()\n",
    "regressor.fit(X, boston.target)\n",
    "score = metrics.mean_squared_error(regressor.predict(X), boston.target)\n",
    "print (\"MSE: %f\" % score)"
   ]
  },
  {
   "cell_type": "code",
   "execution_count": 9,
   "metadata": {
    "collapsed": false
   },
   "outputs": [
    {
     "name": "stdout",
     "output_type": "stream",
     "text": [
      "Step #1, avg. loss: 1.60007\n",
      "Step #6, avg. loss: 0.99522\n",
      "Step #11, avg. loss: 0.87345\n",
      "Step #16, avg. loss: 0.79120\n",
      "Step #21, avg. loss: 0.83338\n",
      "Step #26, avg. loss: 0.78081\n",
      "Step #31, avg. loss: 0.61935\n",
      "Step #36, avg. loss: 0.66795\n",
      "Step #41, avg. loss: 0.56470\n",
      "Step #46, avg. loss: 0.57268\n",
      "Accuracy: 0.700000\n"
     ]
    }
   ],
   "source": [
    "import skflow\n",
    "from sklearn import datasets, metrics\n",
    "\n",
    "iris = datasets.load_iris()\n",
    "classifier = skflow.TensorFlowDNNClassifier(hidden_units=[10, 20, 10], n_classes=3)\n",
    "classifier.fit(iris.data, iris.target, logdir='/Users/kendall/projects/python/tensorflow/intro-to-tensorflow/log/')\n",
    "score = metrics.accuracy_score(classifier.predict(iris.data), iris.target)\n",
    "print(\"Accuracy: %f\" % score)"
   ]
  },
  {
   "cell_type": "code",
   "execution_count": 8,
   "metadata": {
    "collapsed": false
   },
   "outputs": [
    {
     "name": "stdout",
     "output_type": "stream",
     "text": [
      "Step #1, avg. loss: 3.05044\n",
      "Step #6, avg. loss: 1.27893\n",
      "Step #11, avg. loss: 1.22294\n",
      "Step #16, avg. loss: 1.10767\n",
      "Step #21, avg. loss: 1.08546\n",
      "Step #26, avg. loss: 1.08769\n",
      "Step #31, avg. loss: 1.08848\n",
      "Step #36, avg. loss: 1.05161\n",
      "Step #41, avg. loss: 1.06280\n",
      "Step #46, avg. loss: 1.05378\n",
      "Accuracy: 0.446667\n"
     ]
    }
   ],
   "source": [
    "import skflow\n",
    "from sklearn import datasets, metrics\n",
    "\n",
    "iris = datasets.load_iris()\n",
    "\n",
    "def my_model(X, y):\n",
    "    \"\"\"This is DNN with 10, 20, 10 hidden layers, and dropout of 0.5 probability.\"\"\"\n",
    "    layers = skflow.ops.dnn(X, [10, 20, 10], keep_prob=0.5)\n",
    "    return skflow.models.logistic_regression(layers, y)\n",
    "\n",
    "classifier = skflow.TensorFlowEstimator(model_fn=my_model, n_classes=3)\n",
    "classifier.fit(iris.data, iris.target, logdir='/Users/kendall/projects/python/tensorflow/intro-to-tensorflow/log/')\n",
    "score = metrics.accuracy_score(classifier.predict(iris.data), iris.target)\n",
    "print(\"Accuracy: %f\" % score)"
   ]
  },
  {
   "cell_type": "code",
   "execution_count": 7,
   "metadata": {
    "collapsed": false
   },
   "outputs": [
    {
     "ename": "NameError",
     "evalue": "name 'y' is not defined",
     "output_type": "error",
     "traceback": [
      "\u001b[0;31m---------------------------------------------------------------------------\u001b[0m",
      "\u001b[0;31mNameError\u001b[0m                                 Traceback (most recent call last)",
      "\u001b[0;32m<ipython-input-7-2656a47d1316>\u001b[0m in \u001b[0;36m<module>\u001b[0;34m()\u001b[0m\n\u001b[1;32m      1\u001b[0m \u001b[0mclassifier\u001b[0m \u001b[0;34m=\u001b[0m \u001b[0mskflow\u001b[0m\u001b[0;34m.\u001b[0m\u001b[0mTensorFlowLinearRegressor\u001b[0m\u001b[0;34m(\u001b[0m\u001b[0;34m)\u001b[0m\u001b[0;34m\u001b[0m\u001b[0m\n\u001b[0;32m----> 2\u001b[0;31m \u001b[0mclassifier\u001b[0m\u001b[0;34m.\u001b[0m\u001b[0mfit\u001b[0m\u001b[0;34m(\u001b[0m\u001b[0mX\u001b[0m\u001b[0;34m,\u001b[0m \u001b[0my\u001b[0m\u001b[0;34m,\u001b[0m \u001b[0mlogdir\u001b[0m\u001b[0;34m=\u001b[0m\u001b[0;34m'.'\u001b[0m\u001b[0;34m)\u001b[0m\u001b[0;34m\u001b[0m\u001b[0m\n\u001b[0m",
      "\u001b[0;31mNameError\u001b[0m: name 'y' is not defined"
     ]
    }
   ],
   "source": [
    "classifier = skflow.TensorFlowLinearRegressor()\n",
    "classifier.fit(X, y, logdir='.')"
   ]
  },
  {
   "cell_type": "code",
   "execution_count": 10,
   "metadata": {
    "collapsed": true
   },
   "outputs": [],
   "source": [
    "# Add skflow problem set here\n",
    "# Use a new dataset?\n",
    "# Use a different datasent from sklearn?\n",
    "\n",
    "# Problem: Train a few models and come up with the most accurate model\n",
    "# If you win the competition you can get some Google gear"
   ]
  },
  {
   "cell_type": "code",
   "execution_count": null,
   "metadata": {
    "collapsed": true
   },
   "outputs": [],
   "source": []
  }
 ],
 "metadata": {
  "kernelspec": {
   "display_name": "Python 3",
   "language": "python",
   "name": "python3"
  },
  "language_info": {
   "codemirror_mode": {
    "name": "ipython",
    "version": 3
   },
   "file_extension": ".py",
   "mimetype": "text/x-python",
   "name": "python",
   "nbconvert_exporter": "python",
   "pygments_lexer": "ipython3",
   "version": "3.4.3"
  }
 },
 "nbformat": 4,
 "nbformat_minor": 0
}
